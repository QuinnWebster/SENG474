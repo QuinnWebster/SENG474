{
 "cells": [
  {
   "cell_type": "code",
   "execution_count": 14,
   "metadata": {},
   "outputs": [
    {
     "name": "stdout",
     "output_type": "stream",
     "text": [
      "(60000, 784) (60000,)\n",
      "(10000, 784) (10000,)\n"
     ]
    }
   ],
   "source": [
    "import repo.utils.mnist_reader as mnist_reader\n",
    "\n",
    "X_train, y_train = mnist_reader.load_mnist('repo/data/fashion', kind='train')\n",
    "X_test, y_test = mnist_reader.load_mnist('repo/data/fashion', kind='t10k')\n",
    "\n",
    "print(X_train.shape, y_train.shape)\n",
    "print(X_test.shape, y_test.shape)\n"
   ]
  },
  {
   "cell_type": "code",
   "execution_count": 15,
   "metadata": {},
   "outputs": [
    {
     "name": "stdout",
     "output_type": "stream",
     "text": [
      "<class 'numpy.ndarray'>\n",
      "<class 'numpy.ndarray'>\n",
      "<class 'numpy.ndarray'>\n",
      "<class 'numpy.ndarray'>\n"
     ]
    }
   ],
   "source": [
    "print(type(X_train))\n",
    "print(type(y_train))\n",
    "print(type(X_test))\n",
    "print(type(y_test))\n"
   ]
  },
  {
   "cell_type": "markdown",
   "metadata": {},
   "source": [
    "# Narrowing to two classes for training data"
   ]
  },
  {
   "cell_type": "code",
   "execution_count": 16,
   "metadata": {},
   "outputs": [
    {
     "name": "stdout",
     "output_type": "stream",
     "text": [
      "(12000, 784)\n",
      "(12000,)\n"
     ]
    }
   ],
   "source": [
    "import numpy as np\n",
    "\n",
    "num_data_points = len(X_train)\n",
    "\n",
    "X_train_new = []\n",
    "y_train_new = []\n",
    "\n",
    "for i in range(num_data_points):\n",
    "    if y_train[i] == 5:\n",
    "        X_train_new.append(X_train[i])\n",
    "        y_train_new.append(0)\n",
    "    elif y_train[i] == 7:\n",
    "        X_train_new.append(X_train[i])\n",
    "        y_train_new.append(1)\n",
    "\n",
    "\n",
    "\n",
    "X_train_new = np.array(X_train_new)\n",
    "y_train_new = np.array(y_train_new)\n",
    "\n",
    "X_train = X_train_new\n",
    "y_train = y_train_new\n",
    "\n",
    "X_train_og = X_train\n",
    "y_train_og = y_train\n",
    "\n",
    "print(X_train.shape)\n",
    "print(y_train.shape)"
   ]
  },
  {
   "cell_type": "markdown",
   "metadata": {},
   "source": [
    "## Narrowing it to 3000 values for each case"
   ]
  },
  {
   "cell_type": "code",
   "execution_count": 17,
   "metadata": {},
   "outputs": [
    {
     "name": "stdout",
     "output_type": "stream",
     "text": [
      "(3000, 784)\n",
      "(3000,)\n"
     ]
    }
   ],
   "source": [
    "num_samples_per_case = 1500\n",
    "\n",
    "np.random.seed(42)\n",
    "\n",
    "class_0_indices = np.where(y_train== 0)[0]\n",
    "class_1_indices = np.where(y_train == 1)[0]\n",
    "\n",
    "class_0_indices = np.random.choice(class_0_indices, num_samples_per_case, replace=False)\n",
    "class_1_indices = np.random.choice(class_1_indices, num_samples_per_case, replace=False)\n",
    "\n",
    "X_train_short = np.concatenate([X_train[class_0_indices], X_train[class_1_indices]])\n",
    "y_train_short = np.concatenate([np.zeros(num_samples_per_case), np.ones(num_samples_per_case)])\n",
    "\n",
    "indices = np.random.permutation(len(X_train_short))\n",
    "X_train_short = X_train_short[indices]\n",
    "y_train_short = y_train_short[indices]\n",
    "\n",
    "X_train = X_train_short\n",
    "y_train = y_train_short\n",
    "\n",
    "print(X_train_short.shape)\n",
    "print(y_train_short.shape)\n",
    "\n",
    "# for i in range(6000):\n",
    "    # print(\"Printing\")\n",
    "    # print(y_train_short[i])\n",
    "\n",
    "# for i in range (6000):\n",
    "#     if i == 3000:\n",
    "#         print('halfway')\n",
    "#     print(y_train[i])\n"
   ]
  },
  {
   "cell_type": "markdown",
   "metadata": {},
   "source": [
    "## Narrowing to two classes for testing data"
   ]
  },
  {
   "cell_type": "code",
   "execution_count": 18,
   "metadata": {},
   "outputs": [],
   "source": [
    "import numpy as np\n",
    "\n",
    "num_data_points = len(X_test)\n",
    "\n",
    "X_test_new = []\n",
    "y_test_new = []\n",
    "\n",
    "for i in range(num_data_points):\n",
    "    if y_test[i] == 5:\n",
    "        X_test_new.append(X_test[i])\n",
    "        y_test_new.append(0)\n",
    "    elif y_test[i] == 7:\n",
    "        X_test_new.append(X_test[i])\n",
    "        y_test_new.append(1)\n",
    "\n",
    "X_test_new = np.array(X_test_new)\n",
    "y_test_new = np.array(y_test_new)\n",
    "\n",
    "X_test = X_test_new\n",
    "y_test = y_test_new\n",
    "\n",
    "X_test_og = X_test\n",
    "y_test_og = y_test"
   ]
  },
  {
   "cell_type": "markdown",
   "metadata": {},
   "source": [
    "## Normalizing Data"
   ]
  },
  {
   "cell_type": "code",
   "execution_count": null,
   "metadata": {},
   "outputs": [],
   "source": []
  },
  {
   "cell_type": "code",
   "execution_count": 19,
   "metadata": {},
   "outputs": [],
   "source": [
    "from sklearn.preprocessing import StandardScaler\n",
    "\n",
    "# Assume X_train and X_test are your training and test feature matrices\n",
    "scaler = StandardScaler()\n",
    "\n",
    "# Fit on training data and transform training data\n",
    "X_train = scaler.fit_transform(X_train)\n",
    "\n",
    "# Transform test data using the same scaler (without refitting)\n",
    "X_test = scaler.transform(X_test)\n"
   ]
  },
  {
   "cell_type": "markdown",
   "metadata": {},
   "source": [
    "# Adding noise"
   ]
  },
  {
   "cell_type": "code",
   "execution_count": 20,
   "metadata": {},
   "outputs": [
    {
     "name": "stdout",
     "output_type": "stream",
     "text": [
      "2387 613\n",
      "0.20433333333333334\n"
     ]
    }
   ],
   "source": [
    "\"\"\"Select a probability in the range from 0.1 to 0.3 (e.g., you might pick 0.1, or 0.2, or 0.25,\n",
    " etc.). Fix this value, and call it p.\n",
    " Now, independently for each example in the training set, flip its label with probability p.\n",
    " This is called adding “label noise”. It makes the labels noisy and makes machine learning\n",
    " algorithms more likely to overfit\"\"\"\n",
    "\n",
    "p = 0.2 # Probabilty\n",
    "\n",
    "def flip_labels(y):\n",
    "    y_noisy = y.copy()\n",
    "    for i in range(len(y)):\n",
    "        random_number = np.random.rand() #Random num between 0 and 1\n",
    "        if random_number < p:\n",
    "            y_noisy[i] = 1 - y_noisy[i]\n",
    "    return y_noisy\n",
    "\n",
    "\n",
    "y_train_noisy = flip_labels(y_train)\n",
    "\n",
    "\n",
    "#Sanity check\n",
    "same = 0\n",
    "diff = 0\n",
    "for i in range(len(y_train)):\n",
    "    if y_train[i] == y_train_noisy[i]:\n",
    "        same += 1\n",
    "    else:\n",
    "        diff += 1\n",
    "\n",
    "print(same, diff)\n",
    "print(diff / len(y_train))"
   ]
  },
  {
   "cell_type": "code",
   "execution_count": null,
   "metadata": {},
   "outputs": [],
   "source": []
  },
  {
   "cell_type": "markdown",
   "metadata": {},
   "source": [
    "## NOW WE ARE ACTUALLY BUILD A MODEL WITH TUNING"
   ]
  },
  {
   "cell_type": "markdown",
   "metadata": {},
   "source": [
    "Data to work with\n",
    "\n",
    "x training data: X_train\n",
    "y training data: y_train_noisy\n",
    "\n",
    "x testing data: x_test\n",
    "y testing data: y_test\n"
   ]
  },
  {
   "cell_type": "markdown",
   "metadata": {},
   "source": [
    "# Baseline model for reference, to delete"
   ]
  },
  {
   "cell_type": "code",
   "execution_count": 8,
   "metadata": {},
   "outputs": [],
   "source": [
    "# from sklearn.model_selection import train_test_split\n",
    "# from sklearn.svm import SVC\n",
    "# from sklearn.metrics import accuracy_score\n",
    "\n",
    "# kernal = 'linear'\n",
    "\n",
    "# svm = SVC(kernel=kernal, C=1.0)\n",
    "\n",
    "# svm.fit(X_train, y_train_noisy)\n",
    "\n",
    "# y_pred = svm.predict(X_test)\n",
    "\n",
    "# accuracy = accuracy_score(y_test, y_pred)\n",
    "# print(f'Accuracy: {accuracy * 100:.2f}%')\n",
    "\n"
   ]
  },
  {
   "cell_type": "markdown",
   "metadata": {},
   "source": [
    "# Finding values for c, before performing cross-fold validation"
   ]
  },
  {
   "cell_type": "code",
   "execution_count": 9,
   "metadata": {},
   "outputs": [
    {
     "name": "stdout",
     "output_type": "stream",
     "text": [
      "working on c_val:  0.00025\n",
      "0.2733333333333333\n",
      "working on c_val:  0.0005\n",
      "0.2666666666666667\n",
      "working on c_val:  0.001\n",
      "0.26\n",
      "working on c_val:  0.002\n",
      "0.2683333333333333\n",
      "working on c_val:  0.004\n",
      "0.2666666666666667\n",
      "working on c_val:  0.008\n",
      "0.29000000000000004\n",
      "working on c_val:  0.016\n",
      "0.30166666666666664\n",
      "working on c_val:  0.032\n",
      "0.31499999999999995\n",
      "working on c_val:  0.064\n",
      "0.32333333333333336\n",
      "working on c_val:  0.128\n",
      "0.32833333333333337\n",
      "working on c_val:  0.256\n",
      "0.33999999999999997\n",
      "working on c_val:  0.512\n",
      "0.355\n",
      "working on c_val:  1.024\n",
      "0.36\n",
      "working on c_val:  2.048\n",
      "0.3566666666666667\n",
      "working on c_val:  4.096\n",
      "0.3466666666666667\n",
      "working on c_val:  8.192\n",
      "0.3516666666666667\n",
      "0.00025: 0.2733333333333333\n",
      "0.0005: 0.2666666666666667\n",
      "0.001: 0.26\n",
      "0.002: 0.2683333333333333\n",
      "0.004: 0.2666666666666667\n",
      "0.008: 0.29000000000000004\n",
      "0.016: 0.30166666666666664\n",
      "0.032: 0.31499999999999995\n",
      "0.064: 0.32333333333333336\n",
      "0.128: 0.32833333333333337\n",
      "0.256: 0.33999999999999997\n",
      "0.512: 0.355\n",
      "1.024: 0.36\n",
      "2.048: 0.3566666666666667\n",
      "4.096: 0.3466666666666667\n",
      "8.192: 0.3516666666666667\n"
     ]
    }
   ],
   "source": [
    "from sklearn.model_selection import train_test_split\n",
    "from sklearn.svm import SVC\n",
    "from sklearn.metrics import accuracy_score\n",
    "\n",
    "X_train, X_val, y_train_noisy, y_val_noisy = train_test_split(X_train, y_train_noisy, test_size=0.2, random_state=42)\n",
    "\n",
    "potential_c_values = [0.00025, 0.0005, 0.001, 0.002, 0.004, 0.008, 0.016, 0.032, 0.064, 0.128, 0.256, 0.512, 1.024, 2.048, 4.096, 8.192]\n",
    "\n",
    "kernal = 'linear'\n",
    "\n",
    "errors = []\n",
    "\n",
    "for c_val in potential_c_values:\n",
    "\n",
    "    print(\"working on c_val: \", c_val)\n",
    "\n",
    "    svm = SVC(kernel=kernal, C=c_val)\n",
    "\n",
    "    svm.fit(X_train, y_train_noisy)\n",
    "\n",
    "    y_pred = svm.predict(X_val)\n",
    "\n",
    "    accuracy = accuracy_score(y_val_noisy, y_pred)\n",
    "\n",
    "    errors.append(1 - accuracy)\n",
    "\n",
    "    print(1-accuracy)\n",
    "\n",
    "for i in range(len(potential_c_values)):\n",
    "    print(f'{potential_c_values[i]}: {errors[i]}')\n"
   ]
  },
  {
   "cell_type": "markdown",
   "metadata": {},
   "source": []
  },
  {
   "cell_type": "markdown",
   "metadata": {},
   "source": [
    "# Plotting the validation from above"
   ]
  },
  {
   "cell_type": "code",
   "execution_count": 10,
   "metadata": {},
   "outputs": [],
   "source": [
    "import matplotlib.pyplot as plt\n",
    "from matplotlib.ticker import PercentFormatter\n",
    "\n",
    "\n",
    "def plot_errors(training_errors, title):\n",
    "    plt.figure(figsize=(10, 6))\n",
    "    plt.plot(potential_c_values, training_errors, label='Validation Error',  linestyle='-', color='orange', marker='o', markersize=5)\n",
    "\n",
    "    plt.title(title)\n",
    "    plt.xlabel('C Value')\n",
    "    plt.ylabel('Error')\n",
    "    plt.legend()\n",
    "\n",
    "    plt.xscale('log')\n",
    "\n",
    "\n",
    "    plt.gca().yaxis.set_major_formatter(PercentFormatter(xmax=1))\n",
    "\n",
    "\n",
    "    plt.grid(True)\n",
    "    plt.show()"
   ]
  },
  {
   "cell_type": "code",
   "execution_count": 11,
   "metadata": {},
   "outputs": [
    {
     "data": {
      "image/png": "[encoded data removed]",
      "text/plain": [
       "<Figure size 1000x600 with 1 Axes>"
      ]
     },
     "metadata": {},
     "output_type": "display_data"
    }
   ],
   "source": [
    "plot_errors(errors, 'Validation Error vs C Value')"
   ]
  },
  {
   "cell_type": "markdown",
   "metadata": {},
   "source": [
    "# K fold cross validation"
   ]
  },
  {
   "cell_type": "code",
   "execution_count": 21,
   "metadata": {},
   "outputs": [],
   "source": [
    "import numpy as np\n",
    "from sklearn.svm import SVC\n",
    "from sklearn.metrics import accuracy_score\n",
    "\n",
    "def k_fold_cross_validation(k, ensemble, training_features, labels):\n",
    "\n",
    "\n",
    "    kernel = 'linear'\n",
    "    num_samples = training_features.shape[0]\n",
    "\n",
    "    training_features_folds = []\n",
    "    labels_folds = []\n",
    "\n",
    "    # Split the data into k folds\n",
    "    for i in range(k):\n",
    "        training_features_folds.append(training_features[i * num_samples // k : (i + 1) * num_samples // k])\n",
    "        labels_folds.append(labels[i * num_samples // k : (i + 1) * num_samples // k])\n",
    "\n",
    "    best_error = float('inf')\n",
    "    best_ensemble_value = ensemble[0]\n",
    "\n",
    "    for value in ensemble:\n",
    "\n",
    "        print(\"Ensemble value:\", value)\n",
    "\n",
    "        sum_error = 0\n",
    "        average_error = 0\n",
    "\n",
    "        for i in range(k):\n",
    "            training_features_fold = np.vstack([training_features_folds[j] for j in range(k) if j != i])\n",
    "            training_target_fold = np.hstack([labels_folds[j] for j in range(k) if j != i])\n",
    "\n",
    "\n",
    "            test_features = training_features_folds[i]\n",
    "            test_target = labels_folds[i]\n",
    "\n",
    "            svm = SVC(kernel=kernel, C=value)\n",
    "            svm.fit(training_features_fold, training_target_fold)\n",
    "\n",
    "            predictions = svm.predict(test_features)\n",
    "            accuracy = accuracy_score(test_target, predictions)\n",
    "\n",
    "            error = 1 - accuracy\n",
    "            sum_error += error\n",
    "\n",
    "        average_error = sum_error / k\n",
    "\n",
    "        print(\"Average Error:\", average_error)\n",
    "\n",
    "        if average_error < best_error:\n",
    "            print(\"New best error:\", average_error)\n",
    "            print(\"New best ensemble value:\", value)\n",
    "            best_error = average_error\n",
    "            best_ensemble_value = value\n",
    "\n",
    "    print(\"Best value:\", best_ensemble_value)\n",
    "    print(\"Best error:\", best_error)\n",
    "\n",
    "    return best_ensemble_value\n",
    "\n",
    "        "
   ]
  },
  {
   "cell_type": "markdown",
   "metadata": {},
   "source": [
    "## Finding optimal C value"
   ]
  },
  {
   "cell_type": "code",
   "execution_count": 22,
   "metadata": {},
   "outputs": [
    {
     "name": "stdout",
     "output_type": "stream",
     "text": [
      "3000\n",
      "(3000,)\n"
     ]
    }
   ],
   "source": [
    "print(X_train.shape[0])\n",
    "print(y_train_noisy.shape)\n"
   ]
  },
  {
   "cell_type": "code",
   "execution_count": 24,
   "metadata": {},
   "outputs": [
    {
     "name": "stdout",
     "output_type": "stream",
     "text": [
      "Ensemble value: 0.00025\n",
      "Average Error: 0.2553333333333333\n",
      "New best error: 0.2553333333333333\n",
      "New best ensemble value: 0.00025\n",
      "Ensemble value: 0.0005\n",
      "Average Error: 0.254\n",
      "New best error: 0.254\n",
      "New best ensemble value: 0.0005\n",
      "Ensemble value: 0.001\n",
      "Average Error: 0.255\n",
      "Ensemble value: 0.002\n",
      "Average Error: 0.25799999999999995\n",
      "Ensemble value: 0.004\n",
      "Average Error: 0.26399999999999996\n",
      "Ensemble value: 0.008\n",
      "Average Error: 0.274\n",
      "Ensemble value: 0.016\n",
      "Average Error: 0.2833333333333333\n",
      "Ensemble value: 0.032\n",
      "Average Error: 0.2926666666666667\n",
      "Ensemble value: 0.064\n",
      "Average Error: 0.3\n",
      "Ensemble value: 0.128\n",
      "Average Error: 0.30966666666666665\n",
      "Ensemble value: 0.256\n",
      "Average Error: 0.31766666666666665\n",
      "Ensemble value: 0.512\n",
      "Average Error: 0.3263333333333333\n",
      "Ensemble value: 1.024\n",
      "Average Error: 0.33566666666666667\n",
      "Ensemble value: 2.048\n",
      "Average Error: 0.33833333333333326\n",
      "Ensemble value: 4.096\n",
      "Average Error: 0.341\n",
      "Ensemble value: 8.192\n",
      "Average Error: 0.3496666666666667\n",
      "Best value: 0.0005\n",
      "Best error: 0.254\n",
      "Best c value: 0.0005\n"
     ]
    }
   ],
   "source": [
    "c_values = [0.00025, 0.0005, 0.001, 0.002, 0.004, 0.008, 0.016, 0.032, 0.064, 0.128, 0.256, 0.512, 1.024, 2.048, 4.096, 8.192]\n",
    "\n",
    "best_c_value = k_fold_cross_validation(5, c_values, X_train, y_train_noisy)\n",
    "\n",
    "print(\"Best c value:\", best_c_value)"
   ]
  },
  {
   "cell_type": "code",
   "execution_count": null,
   "metadata": {},
   "outputs": [],
   "source": []
  },
  {
   "cell_type": "markdown",
   "metadata": {},
   "source": [
    "# Plotting the k-fold cross-validation results"
   ]
  },
  {
   "cell_type": "code",
   "execution_count": 30,
   "metadata": {},
   "outputs": [],
   "source": [
    "c_values_to_plot = [0.00025, 0.0005, 0.001, 0.002, 0.004, 0.008, 0.016, 0.032, 0.064, 0.128, 0.256, 0.512, 1.024, 2.048, 4.096, 8.192]\n",
    "average_errors_to_plot = [0.2553333333333333, 0.254, 0.255, 0.25799999999999995, 0.26399999999999996, 0.274, 0.2833333333333333, 0.2926666666666667, 0.3, 0.30966666666666665, 0.31766666666666665, 0.3263333333333333, 0.33566666666666667, 0.33833333333333326, 0.341, 0.3496666666666667]\n",
    "\n",
    "\n"
   ]
  },
  {
   "cell_type": "code",
   "execution_count": 31,
   "metadata": {},
   "outputs": [
    {
     "data": {
      "image/png": "[encoded data removed]",
      "text/plain": [
       "<Figure size 1000x600 with 1 Axes>"
      ]
     },
     "metadata": {},
     "output_type": "display_data"
    }
   ],
   "source": [
    "import matplotlib.pyplot as plt\n",
    "from matplotlib.ticker import PercentFormatter\n",
    "\n",
    "def plot_c_vs_error(c_values, errors, title=\"C Value vs. Error\"):\n",
    "    plt.figure(figsize=(10, 6))\n",
    "    plt.plot(c_values, errors, linestyle='-', color='blue', marker='o', markersize=5, label='Error')\n",
    "\n",
    "    plt.title(title)\n",
    "    plt.xlabel('C Value')\n",
    "    plt.ylabel('Error')\n",
    "    plt.legend()\n",
    "\n",
    "    plt.xscale('log')  # Log scale since C values often span several orders of magnitude\n",
    "    plt.gca().yaxis.set_major_formatter(PercentFormatter(xmax=1))  # Format y-axis as percentages\n",
    "\n",
    "    plt.grid(True)\n",
    "    plt.show()\n",
    "\n",
    "plot_c_vs_error(c_values_to_plot, average_errors_to_plot, 'C Value vs. Error')"
   ]
  },
  {
   "cell_type": "markdown",
   "metadata": {},
   "source": [
    "# Stop here"
   ]
  },
  {
   "cell_type": "markdown",
   "metadata": {},
   "source": [
    "## Making final model"
   ]
  },
  {
   "cell_type": "code",
   "execution_count": null,
   "metadata": {},
   "outputs": [],
   "source": []
  },
  {
   "cell_type": "code",
   "execution_count": 25,
   "metadata": {},
   "outputs": [
    {
     "name": "stdout",
     "output_type": "stream",
     "text": [
      "12000\n",
      "12000\n",
      "2000\n",
      "2000\n"
     ]
    }
   ],
   "source": [
    "print(X_train_og.shape[0])\n",
    "print(y_train_og.shape[0])\n",
    "\n",
    "print(X_test_og.shape[0])\n",
    "print(y_test_og.shape[0])\n"
   ]
  },
  {
   "cell_type": "code",
   "execution_count": null,
   "metadata": {},
   "outputs": [],
   "source": []
  },
  {
   "cell_type": "code",
   "execution_count": 32,
   "metadata": {},
   "outputs": [
    {
     "name": "stdout",
     "output_type": "stream",
     "text": [
      "(3000, 784)\n",
      "(2000, 784)\n",
      "(3000,)\n",
      "(2000,)\n"
     ]
    }
   ],
   "source": [
    "print(X_train.shape)\n",
    "print(X_test.shape)\n",
    "print(y_train.shape)\n",
    "print(y_test.shape)"
   ]
  },
  {
   "cell_type": "code",
   "execution_count": 33,
   "metadata": {},
   "outputs": [
    {
     "name": "stdout",
     "output_type": "stream",
     "text": [
      "working on c_val:  0.00025\n",
      "Training error: 0.07366666666666666\n",
      "Testing error: 0.0665\n",
      "working on c_val:  0.0005\n",
      "Training error: 0.06299999999999994\n",
      "Testing error: 0.0615\n",
      "working on c_val:  0.001\n",
      "Training error: 0.05666666666666664\n",
      "Testing error: 0.0635\n",
      "working on c_val:  0.002\n",
      "Training error: 0.058666666666666645\n",
      "Testing error: 0.0665\n",
      "working on c_val:  0.004\n",
      "Training error: 0.061000000000000054\n",
      "Testing error: 0.07050000000000001\n",
      "working on c_val:  0.008\n",
      "Training error: 0.06899999999999995\n",
      "Testing error: 0.07850000000000001\n",
      "working on c_val:  0.016\n",
      "Training error: 0.07799999999999996\n",
      "Testing error: 0.09299999999999997\n",
      "working on c_val:  0.032\n",
      "Training error: 0.08099999999999996\n",
      "Testing error: 0.10650000000000004\n",
      "working on c_val:  0.064\n",
      "Training error: 0.09266666666666667\n",
      "Testing error: 0.118\n",
      "working on c_val:  0.128\n",
      "Training error: 0.09999999999999998\n",
      "Testing error: 0.132\n",
      "working on c_val:  0.256\n",
      "Training error: 0.10599999999999998\n",
      "Testing error: 0.14600000000000002\n",
      "working on c_val:  0.512\n",
      "Training error: 0.1146666666666667\n",
      "Testing error: 0.15600000000000003\n",
      "working on c_val:  1.024\n",
      "Training error: 0.11733333333333329\n",
      "Testing error: 0.16049999999999998\n",
      "working on c_val:  2.048\n",
      "Training error: 0.1223333333333333\n",
      "Testing error: 0.15800000000000003\n",
      "working on c_val:  4.096\n",
      "Training error: 0.1263333333333333\n",
      "Testing error: 0.16400000000000003\n",
      "working on c_val:  8.192\n",
      "Training error: 0.1283333333333333\n",
      "Testing error: 0.16849999999999998\n"
     ]
    }
   ],
   "source": [
    "from sklearn.svm import SVC\n",
    "from sklearn.metrics import accuracy_score\n",
    "\n",
    "\n",
    "c_values = [0.00025, 0.0005, 0.001, 0.002, 0.004, 0.008, 0.016, 0.032, 0.064, 0.128, 0.256, 0.512, 1.024, 2.048, 4.096, 8.192]\n",
    "\n",
    "kernal = 'linear'\n",
    "\n",
    "training_errors = []\n",
    "testing_errors = []\n",
    "\n",
    "for c_val in c_values:\n",
    "\n",
    "    print(\"working on c_val: \", c_val)\n",
    "\n",
    "    # svm = SVC(kernel=kernal, C=c_val)\n",
    "\n",
    "    svm = SVC(kernel=kernal, C=c_val)\n",
    "\n",
    "    svm.fit(X_train, y_train_noisy)\n",
    "\n",
    "    y_train_pred = svm.predict(X_train)\n",
    "    y_test_pred = svm.predict(X_test)\n",
    "\n",
    "    training_accuracy = accuracy_score(y_train, y_train_pred)\n",
    "    testing_accuracy = accuracy_score(y_test, y_test_pred)\n",
    "\n",
    "    training_errors.append(1 - training_accuracy)\n",
    "    testing_errors.append(1 - testing_accuracy)\n",
    "\n",
    "    print(\"Training error:\", 1 - training_accuracy)\n",
    "    print(\"Testing error:\", 1 - testing_accuracy)\n",
    "\n",
    "    "
   ]
  },
  {
   "cell_type": "markdown",
   "metadata": {},
   "source": [
    "# Plot"
   ]
  },
  {
   "cell_type": "code",
   "execution_count": 34,
   "metadata": {},
   "outputs": [],
   "source": [
    "import matplotlib.pyplot as plt\n",
    "from matplotlib.ticker import PercentFormatter\n",
    "\n",
    "\n",
    "def plot_errors(training_errors, testing_errors, title):\n",
    "    plt.figure(figsize=(10, 6))\n",
    "    plt.plot(c_values, training_errors, label='Training Error',  linestyle='-', color='orange', marker='o', markersize=5)\n",
    "    plt.plot(c_values, testing_errors, label='Test Error', linestyle='-', color='blue', marker='o', markersize=5)\n",
    "\n",
    "    plt.title(title)\n",
    "    plt.xlabel('C Value')\n",
    "    plt.ylabel('Error')\n",
    "    plt.legend()\n",
    "\n",
    "    plt.xscale('log')\n",
    "\n",
    "\n",
    "    plt.gca().yaxis.set_major_formatter(PercentFormatter(xmax=1))\n",
    "\n",
    "\n",
    "    plt.grid(True)\n",
    "    plt.show()"
   ]
  },
  {
   "cell_type": "code",
   "execution_count": 35,
   "metadata": {},
   "outputs": [
    {
     "data": {
      "image/png": "[encoded data removed]",
      "text/plain": [
       "<Figure size 1000x600 with 1 Axes>"
      ]
     },
     "metadata": {},
     "output_type": "display_data"
    }
   ],
   "source": [
    "plot_errors(training_errors, testing_errors, 'Training and Test Error vs. C Value')"
   ]
  },
  {
   "cell_type": "code",
   "execution_count": null,
   "metadata": {},
   "outputs": [],
   "source": []
  }
 ],
 "metadata": {
  "kernelspec": {
   "display_name": "base",
   "language": "python",
   "name": "python3"
  },
  "language_info": {
   "codemirror_mode": {
    "name": "ipython",
    "version": 3
   },
   "file_extension": ".py",
   "mimetype": "text/x-python",
   "name": "python",
   "nbconvert_exporter": "python",
   "pygments_lexer": "ipython3",
   "version": "3.11.5"
  }
 },
 "nbformat": 4,
 "nbformat_minor": 2
}
